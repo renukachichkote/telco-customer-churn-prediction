{
 "cells": [
  {
   "cell_type": "code",
   "execution_count": 4,
   "id": "732f95a4",
   "metadata": {},
   "outputs": [],
   "source": [
    "import pandas as pd\n",
    "from fastapi import FastApi\n",
    "import pickle"
   ]
  },
  {
   "cell_type": "code",
   "execution_count": 7,
   "id": "72c7c42f",
   "metadata": {},
   "outputs": [],
   "source": [
    "df1 = pd.read_csv('first_churn.csv')\n",
    "df1.columns"
   ]
  },
  {
   "cell_type": "code",
   "execution_count": null,
   "id": "dfbcb515",
   "metadata": {},
   "outputs": [],
   "source": [
    "model = pickle.load(open('rfc_model.sav', 'rb'))\n",
    "app = FastApi()"
   ]
  },
  {
   "cell_type": "code",
   "execution_count": null,
   "id": "b70b8659",
   "metadata": {},
   "outputs": [],
   "source": [
    "@app.get(\"/\")\n",
    "async def load():\n",
    "    return \"running\"\n",
    "\n",
    "\n",
    "@app.post(\"/predict\")\n",
    "async def predict(data: dict):\n",
    "    try:\n",
    "        input_values = data['data'].split(\",\")\n",
    "        input_df = pd.DataFrame(input_values, columns=df1.columns)\n",
    "        print(input_df.head())\n",
    "        \n",
    "        df2 = pd.concat([df1, input_df], ignore_index=True)\n",
    "        print(df2.head())\n",
    "        \n",
    "        df2_dummies = pd.get_dummies(df2)\n",
    "        predictions = model.predict(df2_dummies)\n",
    "        return predictions\n",
    "    \n",
    "    except Exception as e:\n",
    "        print(e)\n",
    "        \n",
    "if __name__ == \"__main__\":\n",
    "    import unicorn\n",
    "    unicorn.run(app, host:\"0.0.0.0\", port=8080)\n",
    "        \n",
    "        "
   ]
  }
 ],
 "metadata": {
  "kernelspec": {
   "display_name": "Python 3 (ipykernel)",
   "language": "python",
   "name": "python3"
  },
  "language_info": {
   "codemirror_mode": {
    "name": "ipython",
    "version": 3
   },
   "file_extension": ".py",
   "mimetype": "text/x-python",
   "name": "python",
   "nbconvert_exporter": "python",
   "pygments_lexer": "ipython3",
   "version": "3.9.6"
  }
 },
 "nbformat": 4,
 "nbformat_minor": 5
}
